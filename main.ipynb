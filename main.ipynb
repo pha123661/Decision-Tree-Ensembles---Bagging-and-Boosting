{
 "cells": [
  {
   "cell_type": "markdown",
   "metadata": {},
   "source": [
    "## HW3: Decision Tree, AdaBoost and Random Forest\n",
    "In hw3, you need to implement decision tree, adaboost and random forest by using only numpy, then train your implemented model by the provided dataset and test the performance with testing data\n",
    "\n",
    "Please note that only **NUMPY** can be used to implement your model, you will get no points by simply calling sklearn.tree.DecisionTreeClassifier"
   ]
  },
  {
   "cell_type": "markdown",
   "metadata": {},
   "source": [
    "## Load data\n",
    "The dataset is the Heart Disease Data Set from UCI Machine Learning Repository. It is a binary classifiation dataset, the label is stored in `target` column. **Please note that there exist categorical features which need to be [one-hot encoding](https://www.datacamp.com/community/tutorials/categorical-data) before fit into your model!**\n",
    "See follow links for more information\n",
    "https://archive.ics.uci.edu/ml/datasets/heart+Disease"
   ]
  },
  {
   "cell_type": "code",
   "execution_count": 125,
   "metadata": {},
   "outputs": [],
   "source": [
    "import pandas as pd\n",
    "import numpy as np\n",
    "file_url = \"http://storage.googleapis.com/download.tensorflow.org/data/heart.csv\"\n",
    "df = pd.read_csv(file_url)\n",
    "\n",
    "# one-hot encode categorical values\n",
    "categorical_features = ['cp', 'restecg', 'slope', 'thal']\n",
    "for f in categorical_features:\n",
    "    dummy_df = df[f]\n",
    "    dummy_df = pd.get_dummies(dummy_df)\n",
    "    dummy_df.rename(\n",
    "        columns={k: f\"{f}_{k}\" for k in dummy_df.columns}, inplace=True)\n",
    "    df.drop(f, axis=1, inplace=True)\n",
    "    df = df.join(dummy_df)\n",
    "\n",
    "# move \"target\" column to the last\n",
    "target = df.pop(\"target\")\n",
    "df.insert(len(df.columns), \"target\", target)\n",
    "\n",
    "train_idx = np.load('train_idx.npy')\n",
    "test_idx = np.load('test_idx.npy')\n",
    "\n",
    "train_df = df.iloc[train_idx]\n",
    "test_df = df.iloc[test_idx]\n",
    "\n",
    "# get numpy array\n",
    "x_train, y_train = train_df.values[:, :-1], train_df['target'].values.astype(int)\n",
    "x_test, y_test = test_df.values[:, :-1], test_df['target'].values.astype(int)\n"
   ]
  },
  {
   "cell_type": "code",
   "execution_count": 126,
   "metadata": {},
   "outputs": [
    {
     "data": {
      "text/html": [
       "<div>\n",
       "<style scoped>\n",
       "    .dataframe tbody tr th:only-of-type {\n",
       "        vertical-align: middle;\n",
       "    }\n",
       "\n",
       "    .dataframe tbody tr th {\n",
       "        vertical-align: top;\n",
       "    }\n",
       "\n",
       "    .dataframe thead th {\n",
       "        text-align: right;\n",
       "    }\n",
       "</style>\n",
       "<table border=\"1\" class=\"dataframe\">\n",
       "  <thead>\n",
       "    <tr style=\"text-align: right;\">\n",
       "      <th></th>\n",
       "      <th>age</th>\n",
       "      <th>sex</th>\n",
       "      <th>trestbps</th>\n",
       "      <th>chol</th>\n",
       "      <th>fbs</th>\n",
       "      <th>thalach</th>\n",
       "      <th>exang</th>\n",
       "      <th>oldpeak</th>\n",
       "      <th>ca</th>\n",
       "      <th>cp_0</th>\n",
       "      <th>...</th>\n",
       "      <th>restecg_2</th>\n",
       "      <th>slope_1</th>\n",
       "      <th>slope_2</th>\n",
       "      <th>slope_3</th>\n",
       "      <th>thal_1</th>\n",
       "      <th>thal_2</th>\n",
       "      <th>thal_fixed</th>\n",
       "      <th>thal_normal</th>\n",
       "      <th>thal_reversible</th>\n",
       "      <th>target</th>\n",
       "    </tr>\n",
       "  </thead>\n",
       "  <tbody>\n",
       "    <tr>\n",
       "      <th>136</th>\n",
       "      <td>54</td>\n",
       "      <td>1</td>\n",
       "      <td>192</td>\n",
       "      <td>283</td>\n",
       "      <td>0</td>\n",
       "      <td>195</td>\n",
       "      <td>0</td>\n",
       "      <td>0.0</td>\n",
       "      <td>1</td>\n",
       "      <td>0</td>\n",
       "      <td>...</td>\n",
       "      <td>1</td>\n",
       "      <td>1</td>\n",
       "      <td>0</td>\n",
       "      <td>0</td>\n",
       "      <td>0</td>\n",
       "      <td>0</td>\n",
       "      <td>0</td>\n",
       "      <td>0</td>\n",
       "      <td>1</td>\n",
       "      <td>0</td>\n",
       "    </tr>\n",
       "    <tr>\n",
       "      <th>232</th>\n",
       "      <td>58</td>\n",
       "      <td>0</td>\n",
       "      <td>170</td>\n",
       "      <td>225</td>\n",
       "      <td>1</td>\n",
       "      <td>146</td>\n",
       "      <td>1</td>\n",
       "      <td>2.8</td>\n",
       "      <td>2</td>\n",
       "      <td>0</td>\n",
       "      <td>...</td>\n",
       "      <td>1</td>\n",
       "      <td>0</td>\n",
       "      <td>1</td>\n",
       "      <td>0</td>\n",
       "      <td>0</td>\n",
       "      <td>0</td>\n",
       "      <td>1</td>\n",
       "      <td>0</td>\n",
       "      <td>0</td>\n",
       "      <td>1</td>\n",
       "    </tr>\n",
       "    <tr>\n",
       "      <th>233</th>\n",
       "      <td>56</td>\n",
       "      <td>1</td>\n",
       "      <td>130</td>\n",
       "      <td>221</td>\n",
       "      <td>0</td>\n",
       "      <td>163</td>\n",
       "      <td>0</td>\n",
       "      <td>0.0</td>\n",
       "      <td>0</td>\n",
       "      <td>0</td>\n",
       "      <td>...</td>\n",
       "      <td>1</td>\n",
       "      <td>1</td>\n",
       "      <td>0</td>\n",
       "      <td>0</td>\n",
       "      <td>0</td>\n",
       "      <td>0</td>\n",
       "      <td>0</td>\n",
       "      <td>0</td>\n",
       "      <td>1</td>\n",
       "      <td>0</td>\n",
       "    </tr>\n",
       "    <tr>\n",
       "      <th>184</th>\n",
       "      <td>46</td>\n",
       "      <td>1</td>\n",
       "      <td>120</td>\n",
       "      <td>249</td>\n",
       "      <td>0</td>\n",
       "      <td>144</td>\n",
       "      <td>0</td>\n",
       "      <td>0.8</td>\n",
       "      <td>0</td>\n",
       "      <td>0</td>\n",
       "      <td>...</td>\n",
       "      <td>1</td>\n",
       "      <td>1</td>\n",
       "      <td>0</td>\n",
       "      <td>0</td>\n",
       "      <td>0</td>\n",
       "      <td>0</td>\n",
       "      <td>0</td>\n",
       "      <td>0</td>\n",
       "      <td>1</td>\n",
       "      <td>0</td>\n",
       "    </tr>\n",
       "    <tr>\n",
       "      <th>84</th>\n",
       "      <td>55</td>\n",
       "      <td>0</td>\n",
       "      <td>135</td>\n",
       "      <td>250</td>\n",
       "      <td>0</td>\n",
       "      <td>161</td>\n",
       "      <td>0</td>\n",
       "      <td>1.4</td>\n",
       "      <td>0</td>\n",
       "      <td>0</td>\n",
       "      <td>...</td>\n",
       "      <td>1</td>\n",
       "      <td>0</td>\n",
       "      <td>1</td>\n",
       "      <td>0</td>\n",
       "      <td>0</td>\n",
       "      <td>0</td>\n",
       "      <td>0</td>\n",
       "      <td>1</td>\n",
       "      <td>0</td>\n",
       "      <td>0</td>\n",
       "    </tr>\n",
       "  </tbody>\n",
       "</table>\n",
       "<p>5 rows × 26 columns</p>\n",
       "</div>"
      ],
      "text/plain": [
       "     age  sex  trestbps  chol  fbs  thalach  exang  oldpeak  ca  cp_0  ...  \\\n",
       "136   54    1       192   283    0      195      0      0.0   1     0  ...   \n",
       "232   58    0       170   225    1      146      1      2.8   2     0  ...   \n",
       "233   56    1       130   221    0      163      0      0.0   0     0  ...   \n",
       "184   46    1       120   249    0      144      0      0.8   0     0  ...   \n",
       "84    55    0       135   250    0      161      0      1.4   0     0  ...   \n",
       "\n",
       "     restecg_2  slope_1  slope_2  slope_3  thal_1  thal_2  thal_fixed  \\\n",
       "136          1        1        0        0       0       0           0   \n",
       "232          1        0        1        0       0       0           1   \n",
       "233          1        1        0        0       0       0           0   \n",
       "184          1        1        0        0       0       0           0   \n",
       "84           1        0        1        0       0       0           0   \n",
       "\n",
       "     thal_normal  thal_reversible  target  \n",
       "136            0                1       0  \n",
       "232            0                0       1  \n",
       "233            0                1       0  \n",
       "184            0                1       0  \n",
       "84             1                0       0  \n",
       "\n",
       "[5 rows x 26 columns]"
      ]
     },
     "execution_count": 126,
     "metadata": {},
     "output_type": "execute_result"
    }
   ],
   "source": [
    "train_df.head()\n"
   ]
  },
  {
   "cell_type": "markdown",
   "metadata": {},
   "source": [
    "## Question 1\n",
    "Gini Index or Entropy is often used for measuring the “best” splitting of the data. Please compute the Entropy and Gini Index of provided data. Please use the formula from [page 5 of hw3 slides](https://docs.google.com/presentation/d/1kIe_-YZdemRMmr_3xDy-l0OS2EcLgDH7Uan14tlU5KE/edit#slide=id.gd542a5ff75_0_15)"
   ]
  },
  {
   "cell_type": "code",
   "execution_count": 127,
   "metadata": {},
   "outputs": [],
   "source": [
    "def gini(sequence, weights=None):\n",
    "    if weights is None:\n",
    "        uniques, counts = np.unique(sequence, return_counts=True)\n",
    "        p = (counts / len(sequence)) ** 2  # square of probabilities\n",
    "        return 1.0 - np.sum(p)\n",
    "    # implements sample weight\n",
    "    else:\n",
    "        gini = 1.0\n",
    "        weights = weights / weights.sum()\n",
    "        for c in np.unique(sequence):\n",
    "            # calculate (weighted probability) ** 2 of label c\n",
    "            gini -= np.sum(weights[sequence == c]) ** 2\n",
    "        return gini\n",
    "\n",
    "\n",
    "def entropy(sequence, weights=None):\n",
    "    if weights is None:\n",
    "        uniques, counts = np.unique(sequence, return_counts=True)\n",
    "        p = counts / len(sequence)  # probabilities\n",
    "        return -np.sum(p * np.log2(p))\n",
    "    # implements sample weight\n",
    "    else:\n",
    "        entropy = 0\n",
    "        weights = weights / weights.sum()\n",
    "        for c in np.unique(sequence):\n",
    "            # calculate weighted probability of label c\n",
    "            tmp = np.sum(weights[sequence == c])\n",
    "            entropy -= tmp * np.log2(tmp)\n",
    "        return entropy\n"
   ]
  },
  {
   "cell_type": "code",
   "execution_count": 128,
   "metadata": {},
   "outputs": [],
   "source": [
    "# 1 = class 1,\n",
    "# 2 = class 2\n",
    "data = np.array([1, 2, 1, 1, 1, 1, 2, 2, 1, 1, 2])\n"
   ]
  },
  {
   "cell_type": "code",
   "execution_count": 129,
   "metadata": {},
   "outputs": [
    {
     "name": "stdout",
     "output_type": "stream",
     "text": [
      "Gini of data is  0.4628099173553719\n"
     ]
    }
   ],
   "source": [
    "print(\"Gini of data is \", gini(data))\n"
   ]
  },
  {
   "cell_type": "code",
   "execution_count": 130,
   "metadata": {},
   "outputs": [
    {
     "name": "stdout",
     "output_type": "stream",
     "text": [
      "Entropy of data is  0.9456603046006401\n"
     ]
    }
   ],
   "source": [
    "print(\"Entropy of data is \", entropy(data))\n"
   ]
  },
  {
   "cell_type": "markdown",
   "metadata": {},
   "source": [
    "## Question 2\n",
    "Implement the Decision Tree algorithm (CART, Classification and Regression Trees) and trained the model by the given arguments, and print the accuracy score on the test data. You should implement two arguments for the Decision Tree algorithm\n",
    "1. **criterion**: The function to measure the quality of a split. Your model should support `gini` for the Gini impurity and `entropy` for the information gain. \n",
    "2. **max_depth**: The maximum depth of the tree. If `max_depth=None`, then nodes are expanded until all leaves are pure. `max_depth=1` equals to split data once\n"
   ]
  },
  {
   "cell_type": "code",
   "execution_count": 131,
   "metadata": {},
   "outputs": [],
   "source": [
    "class Node():\n",
    "    def __init__(self, c_value, prediction):\n",
    "        self.c_value = c_value\n",
    "        self.prediction = prediction\n",
    "\n",
    "        # be setted after training\n",
    "        self.feature_idx = None\n",
    "        self.threshold = None\n",
    "        self.left = None\n",
    "        self.right = None\n",
    "\n",
    "\n",
    "class DecisionTree():\n",
    "    def __init__(self, criterion='gini', max_depth=None, max_features=None):\n",
    "        # set criterion function\n",
    "        self.criterion = globals()[criterion]\n",
    "\n",
    "        # set max_depth to \"infinite\" if not specified\n",
    "        self.max_depth = max_depth if max_depth is not None else 2 ** 64\n",
    "        self.max_features = max_features\n",
    "        self.n_features = None\n",
    "\n",
    "    def fit(self, x, y, sample_weight=None):\n",
    "        self.n_features = x.shape[1]\n",
    "        self.root = self.get_node(x, y, depth=0, sample_weight=sample_weight)\n",
    "    \n",
    "    def get_node(self, x, y, depth, sample_weight=None):\n",
    "        '''\n",
    "        inputs: data, label, current depth\n",
    "        return: a node\n",
    "        '''\n",
    "\n",
    "        # select the major label as prediction \n",
    "        weighted_counts = np.bincount(y, weights=sample_weight) # sample_weight could be None if not specified\n",
    "        prediction = np.argmax(weighted_counts)\n",
    "            \n",
    "        node = Node(\n",
    "            c_value=self.criterion(y, sample_weight),\n",
    "            prediction=prediction\n",
    "        )\n",
    "\n",
    "        # stop criterion\n",
    "        if depth >= self.max_depth:\n",
    "            return node\n",
    "\n",
    "        node.feature_idx, node.threshold = self.best_split(\n",
    "            x, y, sample_weight)\n",
    "\n",
    "        # return when doesn't or can't be splitted\n",
    "        if node.feature_idx is None:\n",
    "            return node\n",
    "\n",
    "        # < threshold is left group, >= threshold is right group\n",
    "        left_idx = x[:, node.feature_idx] < node.threshold\n",
    "        x_left, y_left = x[left_idx], y[left_idx]\n",
    "        x_right, y_right = x[~left_idx], y[~left_idx]\n",
    "\n",
    "        # get child nodes recursively\n",
    "        # passes sample_weight if exist\n",
    "        if sample_weight is not None:\n",
    "            node.left = self.get_node(\n",
    "                x_left, y_left, depth=depth + 1, sample_weight=sample_weight[left_idx])\n",
    "            node.right = self.get_node(\n",
    "                x_right, y_right, depth=depth + 1, sample_weight=sample_weight[~left_idx])\n",
    "        else:\n",
    "            node.left = self.get_node(x_left, y_left, depth=depth + 1)\n",
    "            node.right = self.get_node(x_right, y_right, depth=depth + 1)\n",
    "\n",
    "        return node\n",
    "\n",
    "    def best_split(self, x, y, sample_weight):\n",
    "        '''\n",
    "        inputs: data and labels\n",
    "        returns: feature_index and threshold for max information gain\n",
    "        '''\n",
    "        if len(y) <= 1:  # no need to split\n",
    "            return None, None\n",
    "\n",
    "        # \"c\" stands for criterion\n",
    "        parent_c = self.criterion(y, sample_weight)\n",
    "        best_ig = -2 ** 64  # \"ig\" stands for information gain\n",
    "        best_idx, best_th = None, None\n",
    "\n",
    "        # random select \"max_features\" of features to build node\n",
    "        # (only used for building random forest)\n",
    "        if self.max_features is not None:\n",
    "            available_features = np.random.choice(\n",
    "                np.arange(self.n_features), size=self.max_features, replace=False)\n",
    "        else:\n",
    "            available_features = np.arange(self.n_features)\n",
    "\n",
    "        for idx in available_features:\n",
    "            # sort data by this feature\n",
    "            sort_idx = np.argsort(x[:, idx])\n",
    "\n",
    "            # use average of i-1th & ith sorted value as candidates\n",
    "            # will deal with duplicates afterwards\n",
    "            thresholds = x[sort_idx, idx]\n",
    "            labels = y[sort_idx]\n",
    "\n",
    "            for pos in range(1, len(y)):\n",
    "                # skip duplicates\n",
    "                if thresholds[pos] == thresholds[pos - 1]:\n",
    "                    continue\n",
    "\n",
    "                # if sample_weight are given, use it to calculate criterion\n",
    "                if sample_weight is not None:\n",
    "                    sorted_sample_weight = sample_weight[sort_idx]\n",
    "                    left_c = self.criterion(\n",
    "                        labels[:pos], sorted_sample_weight[:pos])\n",
    "                    right_c = self.criterion(\n",
    "                        labels[pos:], sorted_sample_weight[pos:])\n",
    "                else:\n",
    "                    left_c = self.criterion(labels[:pos])\n",
    "                    right_c = self.criterion(labels[pos:])\n",
    "\n",
    "                # calculate weight average of left and right criterion\n",
    "                child_c = (pos * left_c + (len(y) - pos) * right_c) / len(y)\n",
    "                # calculates information gain\n",
    "                ig = parent_c - child_c\n",
    "\n",
    "                # record best information gain\n",
    "                if ig > best_ig:\n",
    "                    best_ig = ig\n",
    "                    best_idx = idx\n",
    "                    best_th = (thresholds[pos] + thresholds[pos - 1]) / 2\n",
    "\n",
    "        return best_idx, best_th\n",
    "\n",
    "    def predict(self, x):\n",
    "        '''\n",
    "        input: x with shape (n_samples, n_features)\n",
    "        return: y with shape (n_samples, )\n",
    "        '''\n",
    "\n",
    "        def util(self, x):\n",
    "            '''\n",
    "            predicts a single sample\n",
    "            '''\n",
    "            cur_node = self.root\n",
    "            while cur_node.left and cur_node.right:\n",
    "                if x[cur_node.feature_idx] < cur_node.threshold:\n",
    "                    cur_node = cur_node.left\n",
    "                else:\n",
    "                    cur_node = cur_node.right\n",
    "\n",
    "            return cur_node.prediction\n",
    "\n",
    "        return np.stack([util(self, single_x) for single_x in x])\n"
   ]
  },
  {
   "cell_type": "markdown",
   "metadata": {},
   "source": [
    "### Question 2.1\n",
    "Using `criterion=gini`, showing the accuracy score of test data by `max_depth=3` and `max_depth=10`, respectively.\n"
   ]
  },
  {
   "cell_type": "code",
   "execution_count": 132,
   "metadata": {},
   "outputs": [],
   "source": [
    "from sklearn.metrics import accuracy_score\n"
   ]
  },
  {
   "cell_type": "code",
   "execution_count": 168,
   "metadata": {},
   "outputs": [
    {
     "name": "stdout",
     "output_type": "stream",
     "text": [
      "Q2.1\n",
      "criterion=gini, max_depth=3: 0.77\n",
      "criterion=gini, max_depth=10: 0.72\n"
     ]
    }
   ],
   "source": [
    "print(\"Q2.1\")\n",
    "clf_depth3 = DecisionTree(criterion='gini', max_depth=3)\n",
    "clf_depth3.fit(x_train, y_train)\n",
    "y_pred = clf_depth3.predict(x_test)\n",
    "print(\"criterion=gini, max_depth=3:\", accuracy_score(y_test, y_pred))\n",
    "\n",
    "clf_depth10 = DecisionTree(criterion='gini', max_depth=10)\n",
    "clf_depth10.fit(x_train, y_train)\n",
    "y_pred = clf_depth10.predict(x_test)\n",
    "print(\"criterion=gini, max_depth=10:\", accuracy_score(y_test, y_pred))\n"
   ]
  },
  {
   "cell_type": "markdown",
   "metadata": {},
   "source": [
    "### Question 2.2\n",
    "Using `max_depth=3`, showing the accuracy score of test data by `criterion=gini` and `criterion=entropy`, respectively.\n"
   ]
  },
  {
   "cell_type": "code",
   "execution_count": 169,
   "metadata": {},
   "outputs": [
    {
     "name": "stdout",
     "output_type": "stream",
     "text": [
      "Q2.2\n",
      "criterion=gini, max_depth=3: 0.77\n",
      "criterion=entropy, max_depth=3: 0.79\n"
     ]
    }
   ],
   "source": [
    "print(\"Q2.2\")\n",
    "clf_gini = DecisionTree(criterion='gini', max_depth=3)\n",
    "clf_gini.fit(x_train, y_train)\n",
    "y_pred = clf_gini.predict(x_test)\n",
    "print(\"criterion=gini, max_depth=3:\", accuracy_score(y_test, y_pred))\n",
    "\n",
    "clf_entropy = DecisionTree(criterion='entropy', max_depth=3)\n",
    "clf_entropy.fit(x_train, y_train)\n",
    "y_pred = clf_entropy.predict(x_test)\n",
    "print(\"criterion=entropy, max_depth=3:\", accuracy_score(y_test, y_pred))\n"
   ]
  },
  {
   "cell_type": "markdown",
   "metadata": {},
   "source": [
    "- Note: Your decisition tree scores should over **0.7**. It may suffer from overfitting, if so, you can tune the hyperparameter such as `max_depth`\n",
    "- Note: You should get the same results when re-building the model with the same arguments,  no need to prune the trees\n",
    "- Hint: You can use the recursive method to build the nodes\n"
   ]
  },
  {
   "cell_type": "markdown",
   "metadata": {},
   "source": [
    "## Question 3\n",
    "Plot the [feature importance](https://sefiks.com/2020/04/06/feature-importance-in-decision-trees/) of your Decision Tree model. You can get the feature importance by counting the feature used for splitting data.\n",
    "\n",
    "- You can simply plot the **counts of feature used** for building tree without normalize the importance. Take the figure below as example, outlook feature has been used for splitting for almost 50 times. Therefore, it has the largest importance\n",
    "\n",
    "![image](https://i2.wp.com/sefiks.com/wp-content/uploads/2020/04/c45-fi-results.jpg?w=481&ssl=1)"
   ]
  },
  {
   "cell_type": "code",
   "execution_count": 135,
   "metadata": {},
   "outputs": [
    {
     "data": {
      "image/png": "[encoded data removed]",
      "image/svg+xml": "<?xml version=\"1.0\" encoding=\"utf-8\" standalone=\"no\"?>\n<!DOCTYPE svg PUBLIC \"-//W3C//DTD SVG 1.1//EN\"\n  \"http://www.w3.org/Graphics/SVG/1.1/DTD/svg11.dtd\">\n<svg xmlns:xlink=\"http://www.w3.org/1999/xlink\" width=\"413.41625pt\" height=\"283.721pt\" viewBox=\"0 0 413.41625 283.721\" xmlns=\"http://www.w3.org/2000/svg\" version=\"1.1\">\n <metadata>\n  <rdf:RDF xmlns:dc=\"http://purl.org/dc/elements/1.1/\" xmlns:cc=\"http://creativecommons.org/ns#\" xmlns:rdf=\"http://www.w3.org/1999/02/22-rdf-syntax-ns#\">\n   <cc:Work>\n    <dc:type rdf:resource=\"http://purl.org/dc/dcmitype/StillImage\"/>\n    <dc:date>2022-04-25T21:35:55.386379</dc:date>\n    <dc:format>image/svg+xml</dc:format>\n    <dc:creator>\n     <cc:Agent>\n      <dc:title>Matplotlib v3.5.0, https://matplotlib.org/</dc:title>\n     </cc:Agent>\n    </dc:creator>\n   </cc:Work>\n  </rdf:RDF>\n </metadata>\n <defs>\n  <style type=\"text/css\">*{stroke-linejoin: round; stroke-linecap: butt}</style>\n </defs>\n <g id=\"figure_1\">\n  <g id=\"patch_1\">\n   <path d=\"M 0 283.721 \nL 413.41625 283.721 \nL 413.41625 0 \nL 0 0 \nL 0 283.721 \nz\n\" style=\"fill: none\"/>\n  </g>\n  <g id=\"axes_1\">\n   <g id=\"patch_2\">\n    <path d=\"M 49.09625 259.6785 \nL 406.21625 259.6785 \nL 406.21625 20.4945 \nL 49.09625 20.4945 \nz\n\" style=\"fill: #ffffff\"/>\n   </g>\n   <g id=\"patch_3\">\n    <path d=\"M 49.09625 248.8065 \nL 54.410536 248.8065 \nL 54.410536 231.056296 \nL 49.09625 231.056296 \nz\n\" clip-path=\"url(#p29e054e8d8)\" style=\"fill: #1f77b4\"/>\n   </g>\n   <g id=\"patch_4\">\n    <path d=\"M 49.09625 226.618745 \nL 54.410536 226.618745 \nL 54.410536 208.868541 \nL 49.09625 208.868541 \nz\n\" clip-path=\"url(#p29e054e8d8)\" style=\"fill: #1f77b4\"/>\n   </g>\n   <g id=\"patch_5\">\n    <path d=\"M 49.09625 204.43099 \nL 54.410536 204.43099 \nL 54.410536 186.680786 \nL 49.09625 186.680786 \nz\n\" clip-path=\"url(#p29e054e8d8)\" style=\"fill: #1f77b4\"/>\n   </g>\n   <g id=\"patch_6\">\n    <path d=\"M 49.09625 182.243235 \nL 59.724821 182.243235 \nL 59.724821 164.493031 \nL 49.09625 164.493031 \nz\n\" clip-path=\"url(#p29e054e8d8)\" style=\"fill: #1f77b4\"/>\n   </g>\n   <g id=\"patch_7\">\n    <path d=\"M 49.09625 160.05548 \nL 70.353393 160.05548 \nL 70.353393 142.305276 \nL 49.09625 142.305276 \nz\n\" clip-path=\"url(#p29e054e8d8)\" style=\"fill: #1f77b4\"/>\n   </g>\n   <g id=\"patch_8\">\n    <path d=\"M 49.09625 137.867724 \nL 70.353393 137.867724 \nL 70.353393 120.11752 \nL 49.09625 120.11752 \nz\n\" clip-path=\"url(#p29e054e8d8)\" style=\"fill: #1f77b4\"/>\n   </g>\n   <g id=\"patch_9\">\n    <path d=\"M 49.09625 115.679969 \nL 70.353393 115.679969 \nL 70.353393 97.929765 \nL 49.09625 97.929765 \nz\n\" clip-path=\"url(#p29e054e8d8)\" style=\"fill: #1f77b4\"/>\n   </g>\n   <g id=\"patch_10\">\n    <path d=\"M 49.09625 93.492214 \nL 75.667679 93.492214 \nL 75.667679 75.74201 \nL 49.09625 75.74201 \nz\n\" clip-path=\"url(#p29e054e8d8)\" style=\"fill: #1f77b4\"/>\n   </g>\n   <g id=\"patch_11\">\n    <path d=\"M 49.09625 71.304459 \nL 91.610536 71.304459 \nL 91.610536 53.554255 \nL 49.09625 53.554255 \nz\n\" clip-path=\"url(#p29e054e8d8)\" style=\"fill: #1f77b4\"/>\n   </g>\n   <g id=\"patch_12\">\n    <path d=\"M 49.09625 49.116704 \nL 389.210536 49.116704 \nL 389.210536 31.3665 \nL 49.09625 31.3665 \nz\n\" clip-path=\"url(#p29e054e8d8)\" style=\"fill: #1f77b4\"/>\n   </g>\n   <g id=\"matplotlib.axis_1\">\n    <g id=\"xtick_1\">\n     <g id=\"line2d_1\">\n      <defs>\n       <path id=\"m2a9753a35b\" d=\"M 0 0 \nL 0 3.5 \n\" style=\"stroke: #000000; stroke-width: 0.8\"/>\n      </defs>\n      <g>\n       <use xlink:href=\"#m2a9753a35b\" x=\"49.09625\" y=\"259.6785\" style=\"stroke: #000000; stroke-width: 0.8\"/>\n      </g>\n     </g>\n     <g id=\"text_1\">\n      <!-- 0 -->\n      <g transform=\"translate(46.55125 274.85725)scale(0.08 -0.08)\">\n       <defs>\n        <path id=\"DejaVuSans-30\" d=\"M 2034 4250 \nQ 1547 4250 1301 3770 \nQ 1056 3291 1056 2328 \nQ 1056 1369 1301 889 \nQ 1547 409 2034 409 \nQ 2525 409 2770 889 \nQ 3016 1369 3016 2328 \nQ 3016 3291 2770 3770 \nQ 2525 4250 2034 4250 \nz\nM 2034 4750 \nQ 2819 4750 3233 4129 \nQ 3647 3509 3647 2328 \nQ 3647 1150 3233 529 \nQ 2819 -91 2034 -91 \nQ 1250 -91 836 529 \nQ 422 1150 422 2328 \nQ 422 3509 836 4129 \nQ 1250 4750 2034 4750 \nz\n\" transform=\"scale(0.015625)\"/>\n       </defs>\n       <use xlink:href=\"#DejaVuSans-30\"/>\n      </g>\n     </g>\n    </g>\n    <g id=\"xtick_2\">\n     <g id=\"line2d_2\">\n      <g>\n       <use xlink:href=\"#m2a9753a35b\" x=\"102.239107\" y=\"259.6785\" style=\"stroke: #000000; stroke-width: 0.8\"/>\n      </g>\n     </g>\n     <g id=\"text_2\">\n      <!-- 10 -->\n      <g transform=\"translate(97.149107 274.85725)scale(0.08 -0.08)\">\n       <defs>\n        <path id=\"DejaVuSans-31\" d=\"M 794 531 \nL 1825 531 \nL 1825 4091 \nL 703 3866 \nL 703 4441 \nL 1819 4666 \nL 2450 4666 \nL 2450 531 \nL 3481 531 \nL 3481 0 \nL 794 0 \nL 794 531 \nz\n\" transform=\"scale(0.015625)\"/>\n       </defs>\n       <use xlink:href=\"#DejaVuSans-31\"/>\n       <use xlink:href=\"#DejaVuSans-30\" x=\"63.623047\"/>\n      </g>\n     </g>\n    </g>\n    <g id=\"xtick_3\">\n     <g id=\"line2d_3\">\n      <g>\n       <use xlink:href=\"#m2a9753a35b\" x=\"155.381964\" y=\"259.6785\" style=\"stroke: #000000; stroke-width: 0.8\"/>\n      </g>\n     </g>\n     <g id=\"text_3\">\n      <!-- 20 -->\n      <g transform=\"translate(150.291964 274.85725)scale(0.08 -0.08)\">\n       <defs>\n        <path id=\"DejaVuSans-32\" d=\"M 1228 531 \nL 3431 531 \nL 3431 0 \nL 469 0 \nL 469 531 \nQ 828 903 1448 1529 \nQ 2069 2156 2228 2338 \nQ 2531 2678 2651 2914 \nQ 2772 3150 2772 3378 \nQ 2772 3750 2511 3984 \nQ 2250 4219 1831 4219 \nQ 1534 4219 1204 4116 \nQ 875 4013 500 3803 \nL 500 4441 \nQ 881 4594 1212 4672 \nQ 1544 4750 1819 4750 \nQ 2544 4750 2975 4387 \nQ 3406 4025 3406 3419 \nQ 3406 3131 3298 2873 \nQ 3191 2616 2906 2266 \nQ 2828 2175 2409 1742 \nQ 1991 1309 1228 531 \nz\n\" transform=\"scale(0.015625)\"/>\n       </defs>\n       <use xlink:href=\"#DejaVuSans-32\"/>\n       <use xlink:href=\"#DejaVuSans-30\" x=\"63.623047\"/>\n      </g>\n     </g>\n    </g>\n    <g id=\"xtick_4\">\n     <g id=\"line2d_4\">\n      <g>\n       <use xlink:href=\"#m2a9753a35b\" x=\"208.524821\" y=\"259.6785\" style=\"stroke: #000000; stroke-width: 0.8\"/>\n      </g>\n     </g>\n     <g id=\"text_4\">\n      <!-- 30 -->\n      <g transform=\"translate(203.434821 274.85725)scale(0.08 -0.08)\">\n       <defs>\n        <path id=\"DejaVuSans-33\" d=\"M 2597 2516 \nQ 3050 2419 3304 2112 \nQ 3559 1806 3559 1356 \nQ 3559 666 3084 287 \nQ 2609 -91 1734 -91 \nQ 1441 -91 1130 -33 \nQ 819 25 488 141 \nL 488 750 \nQ 750 597 1062 519 \nQ 1375 441 1716 441 \nQ 2309 441 2620 675 \nQ 2931 909 2931 1356 \nQ 2931 1769 2642 2001 \nQ 2353 2234 1838 2234 \nL 1294 2234 \nL 1294 2753 \nL 1863 2753 \nQ 2328 2753 2575 2939 \nQ 2822 3125 2822 3475 \nQ 2822 3834 2567 4026 \nQ 2313 4219 1838 4219 \nQ 1578 4219 1281 4162 \nQ 984 4106 628 3988 \nL 628 4550 \nQ 988 4650 1302 4700 \nQ 1616 4750 1894 4750 \nQ 2613 4750 3031 4423 \nQ 3450 4097 3450 3541 \nQ 3450 3153 3228 2886 \nQ 3006 2619 2597 2516 \nz\n\" transform=\"scale(0.015625)\"/>\n       </defs>\n       <use xlink:href=\"#DejaVuSans-33\"/>\n       <use xlink:href=\"#DejaVuSans-30\" x=\"63.623047\"/>\n      </g>\n     </g>\n    </g>\n    <g id=\"xtick_5\">\n     <g id=\"line2d_5\">\n      <g>\n       <use xlink:href=\"#m2a9753a35b\" x=\"261.667679\" y=\"259.6785\" style=\"stroke: #000000; stroke-width: 0.8\"/>\n      </g>\n     </g>\n     <g id=\"text_5\">\n      <!-- 40 -->\n      <g transform=\"translate(256.577679 274.85725)scale(0.08 -0.08)\">\n       <defs>\n        <path id=\"DejaVuSans-34\" d=\"M 2419 4116 \nL 825 1625 \nL 2419 1625 \nL 2419 4116 \nz\nM 2253 4666 \nL 3047 4666 \nL 3047 1625 \nL 3713 1625 \nL 3713 1100 \nL 3047 1100 \nL 3047 0 \nL 2419 0 \nL 2419 1100 \nL 313 1100 \nL 313 1709 \nL 2253 4666 \nz\n\" transform=\"scale(0.015625)\"/>\n       </defs>\n       <use xlink:href=\"#DejaVuSans-34\"/>\n       <use xlink:href=\"#DejaVuSans-30\" x=\"63.623047\"/>\n      </g>\n     </g>\n    </g>\n    <g id=\"xtick_6\">\n     <g id=\"line2d_6\">\n      <g>\n       <use xlink:href=\"#m2a9753a35b\" x=\"314.810536\" y=\"259.6785\" style=\"stroke: #000000; stroke-width: 0.8\"/>\n      </g>\n     </g>\n     <g id=\"text_6\">\n      <!-- 50 -->\n      <g transform=\"translate(309.720536 274.85725)scale(0.08 -0.08)\">\n       <defs>\n        <path id=\"DejaVuSans-35\" d=\"M 691 4666 \nL 3169 4666 \nL 3169 4134 \nL 1269 4134 \nL 1269 2991 \nQ 1406 3038 1543 3061 \nQ 1681 3084 1819 3084 \nQ 2600 3084 3056 2656 \nQ 3513 2228 3513 1497 \nQ 3513 744 3044 326 \nQ 2575 -91 1722 -91 \nQ 1428 -91 1123 -41 \nQ 819 9 494 109 \nL 494 744 \nQ 775 591 1075 516 \nQ 1375 441 1709 441 \nQ 2250 441 2565 725 \nQ 2881 1009 2881 1497 \nQ 2881 1984 2565 2268 \nQ 2250 2553 1709 2553 \nQ 1456 2553 1204 2497 \nQ 953 2441 691 2322 \nL 691 4666 \nz\n\" transform=\"scale(0.015625)\"/>\n       </defs>\n       <use xlink:href=\"#DejaVuSans-35\"/>\n       <use xlink:href=\"#DejaVuSans-30\" x=\"63.623047\"/>\n      </g>\n     </g>\n    </g>\n    <g id=\"xtick_7\">\n     <g id=\"line2d_7\">\n      <g>\n       <use xlink:href=\"#m2a9753a35b\" x=\"367.953393\" y=\"259.6785\" style=\"stroke: #000000; stroke-width: 0.8\"/>\n      </g>\n     </g>\n     <g id=\"text_7\">\n      <!-- 60 -->\n      <g transform=\"translate(362.863393 274.85725)scale(0.08 -0.08)\">\n       <defs>\n        <path id=\"DejaVuSans-36\" d=\"M 2113 2584 \nQ 1688 2584 1439 2293 \nQ 1191 2003 1191 1497 \nQ 1191 994 1439 701 \nQ 1688 409 2113 409 \nQ 2538 409 2786 701 \nQ 3034 994 3034 1497 \nQ 3034 2003 2786 2293 \nQ 2538 2584 2113 2584 \nz\nM 3366 4563 \nL 3366 3988 \nQ 3128 4100 2886 4159 \nQ 2644 4219 2406 4219 \nQ 1781 4219 1451 3797 \nQ 1122 3375 1075 2522 \nQ 1259 2794 1537 2939 \nQ 1816 3084 2150 3084 \nQ 2853 3084 3261 2657 \nQ 3669 2231 3669 1497 \nQ 3669 778 3244 343 \nQ 2819 -91 2113 -91 \nQ 1303 -91 875 529 \nQ 447 1150 447 2328 \nQ 447 3434 972 4092 \nQ 1497 4750 2381 4750 \nQ 2619 4750 2861 4703 \nQ 3103 4656 3366 4563 \nz\n\" transform=\"scale(0.015625)\"/>\n       </defs>\n       <use xlink:href=\"#DejaVuSans-36\"/>\n       <use xlink:href=\"#DejaVuSans-30\" x=\"63.623047\"/>\n      </g>\n     </g>\n    </g>\n   </g>\n   <g id=\"matplotlib.axis_2\">\n    <g id=\"ytick_1\">\n     <g id=\"line2d_8\">\n      <defs>\n       <path id=\"m12215b597d\" d=\"M 0 0 \nL -3.5 0 \n\" style=\"stroke: #000000; stroke-width: 0.8\"/>\n      </defs>\n      <g>\n       <use xlink:href=\"#m12215b597d\" x=\"49.09625\" y=\"239.931398\" style=\"stroke: #000000; stroke-width: 0.8\"/>\n      </g>\n     </g>\n     <g id=\"text_8\">\n      <!-- exang -->\n      <g transform=\"translate(15.4275 242.970773)scale(0.08 -0.08)\">\n       <defs>\n        <path id=\"DejaVuSans-65\" d=\"M 3597 1894 \nL 3597 1613 \nL 953 1613 \nQ 991 1019 1311 708 \nQ 1631 397 2203 397 \nQ 2534 397 2845 478 \nQ 3156 559 3463 722 \nL 3463 178 \nQ 3153 47 2828 -22 \nQ 2503 -91 2169 -91 \nQ 1331 -91 842 396 \nQ 353 884 353 1716 \nQ 353 2575 817 3079 \nQ 1281 3584 2069 3584 \nQ 2775 3584 3186 3129 \nQ 3597 2675 3597 1894 \nz\nM 3022 2063 \nQ 3016 2534 2758 2815 \nQ 2500 3097 2075 3097 \nQ 1594 3097 1305 2825 \nQ 1016 2553 972 2059 \nL 3022 2063 \nz\n\" transform=\"scale(0.015625)\"/>\n        <path id=\"DejaVuSans-78\" d=\"M 3513 3500 \nL 2247 1797 \nL 3578 0 \nL 2900 0 \nL 1881 1375 \nL 863 0 \nL 184 0 \nL 1544 1831 \nL 300 3500 \nL 978 3500 \nL 1906 2253 \nL 2834 3500 \nL 3513 3500 \nz\n\" transform=\"scale(0.015625)\"/>\n        <path id=\"DejaVuSans-61\" d=\"M 2194 1759 \nQ 1497 1759 1228 1600 \nQ 959 1441 959 1056 \nQ 959 750 1161 570 \nQ 1363 391 1709 391 \nQ 2188 391 2477 730 \nQ 2766 1069 2766 1631 \nL 2766 1759 \nL 2194 1759 \nz\nM 3341 1997 \nL 3341 0 \nL 2766 0 \nL 2766 531 \nQ 2569 213 2275 61 \nQ 1981 -91 1556 -91 \nQ 1019 -91 701 211 \nQ 384 513 384 1019 \nQ 384 1609 779 1909 \nQ 1175 2209 1959 2209 \nL 2766 2209 \nL 2766 2266 \nQ 2766 2663 2505 2880 \nQ 2244 3097 1772 3097 \nQ 1472 3097 1187 3025 \nQ 903 2953 641 2809 \nL 641 3341 \nQ 956 3463 1253 3523 \nQ 1550 3584 1831 3584 \nQ 2591 3584 2966 3190 \nQ 3341 2797 3341 1997 \nz\n\" transform=\"scale(0.015625)\"/>\n        <path id=\"DejaVuSans-6e\" d=\"M 3513 2113 \nL 3513 0 \nL 2938 0 \nL 2938 2094 \nQ 2938 2591 2744 2837 \nQ 2550 3084 2163 3084 \nQ 1697 3084 1428 2787 \nQ 1159 2491 1159 1978 \nL 1159 0 \nL 581 0 \nL 581 3500 \nL 1159 3500 \nL 1159 2956 \nQ 1366 3272 1645 3428 \nQ 1925 3584 2291 3584 \nQ 2894 3584 3203 3211 \nQ 3513 2838 3513 2113 \nz\n\" transform=\"scale(0.015625)\"/>\n        <path id=\"DejaVuSans-67\" d=\"M 2906 1791 \nQ 2906 2416 2648 2759 \nQ 2391 3103 1925 3103 \nQ 1463 3103 1205 2759 \nQ 947 2416 947 1791 \nQ 947 1169 1205 825 \nQ 1463 481 1925 481 \nQ 2391 481 2648 825 \nQ 2906 1169 2906 1791 \nz\nM 3481 434 \nQ 3481 -459 3084 -895 \nQ 2688 -1331 1869 -1331 \nQ 1566 -1331 1297 -1286 \nQ 1028 -1241 775 -1147 \nL 775 -588 \nQ 1028 -725 1275 -790 \nQ 1522 -856 1778 -856 \nQ 2344 -856 2625 -561 \nQ 2906 -266 2906 331 \nL 2906 616 \nQ 2728 306 2450 153 \nQ 2172 0 1784 0 \nQ 1141 0 747 490 \nQ 353 981 353 1791 \nQ 353 2603 747 3093 \nQ 1141 3584 1784 3584 \nQ 2172 3584 2450 3431 \nQ 2728 3278 2906 2969 \nL 2906 3500 \nL 3481 3500 \nL 3481 434 \nz\n\" transform=\"scale(0.015625)\"/>\n       </defs>\n       <use xlink:href=\"#DejaVuSans-65\"/>\n       <use xlink:href=\"#DejaVuSans-78\" x=\"59.773438\"/>\n       <use xlink:href=\"#DejaVuSans-61\" x=\"118.953125\"/>\n       <use xlink:href=\"#DejaVuSans-6e\" x=\"180.232422\"/>\n       <use xlink:href=\"#DejaVuSans-67\" x=\"243.611328\"/>\n      </g>\n     </g>\n    </g>\n    <g id=\"ytick_2\">\n     <g id=\"line2d_9\">\n      <g>\n       <use xlink:href=\"#m12215b597d\" x=\"49.09625\" y=\"217.743643\" style=\"stroke: #000000; stroke-width: 0.8\"/>\n      </g>\n     </g>\n     <g id=\"text_9\">\n      <!-- oldpeak -->\n      <g transform=\"translate(8.26375 220.783018)scale(0.08 -0.08)\">\n       <defs>\n        <path id=\"DejaVuSans-6f\" d=\"M 1959 3097 \nQ 1497 3097 1228 2736 \nQ 959 2375 959 1747 \nQ 959 1119 1226 758 \nQ 1494 397 1959 397 \nQ 2419 397 2687 759 \nQ 2956 1122 2956 1747 \nQ 2956 2369 2687 2733 \nQ 2419 3097 1959 3097 \nz\nM 1959 3584 \nQ 2709 3584 3137 3096 \nQ 3566 2609 3566 1747 \nQ 3566 888 3137 398 \nQ 2709 -91 1959 -91 \nQ 1206 -91 779 398 \nQ 353 888 353 1747 \nQ 353 2609 779 3096 \nQ 1206 3584 1959 3584 \nz\n\" transform=\"scale(0.015625)\"/>\n        <path id=\"DejaVuSans-6c\" d=\"M 603 4863 \nL 1178 4863 \nL 1178 0 \nL 603 0 \nL 603 4863 \nz\n\" transform=\"scale(0.015625)\"/>\n        <path id=\"DejaVuSans-64\" d=\"M 2906 2969 \nL 2906 4863 \nL 3481 4863 \nL 3481 0 \nL 2906 0 \nL 2906 525 \nQ 2725 213 2448 61 \nQ 2172 -91 1784 -91 \nQ 1150 -91 751 415 \nQ 353 922 353 1747 \nQ 353 2572 751 3078 \nQ 1150 3584 1784 3584 \nQ 2172 3584 2448 3432 \nQ 2725 3281 2906 2969 \nz\nM 947 1747 \nQ 947 1113 1208 752 \nQ 1469 391 1925 391 \nQ 2381 391 2643 752 \nQ 2906 1113 2906 1747 \nQ 2906 2381 2643 2742 \nQ 2381 3103 1925 3103 \nQ 1469 3103 1208 2742 \nQ 947 2381 947 1747 \nz\n\" transform=\"scale(0.015625)\"/>\n        <path id=\"DejaVuSans-70\" d=\"M 1159 525 \nL 1159 -1331 \nL 581 -1331 \nL 581 3500 \nL 1159 3500 \nL 1159 2969 \nQ 1341 3281 1617 3432 \nQ 1894 3584 2278 3584 \nQ 2916 3584 3314 3078 \nQ 3713 2572 3713 1747 \nQ 3713 922 3314 415 \nQ 2916 -91 2278 -91 \nQ 1894 -91 1617 61 \nQ 1341 213 1159 525 \nz\nM 3116 1747 \nQ 3116 2381 2855 2742 \nQ 2594 3103 2138 3103 \nQ 1681 3103 1420 2742 \nQ 1159 2381 1159 1747 \nQ 1159 1113 1420 752 \nQ 1681 391 2138 391 \nQ 2594 391 2855 752 \nQ 3116 1113 3116 1747 \nz\n\" transform=\"scale(0.015625)\"/>\n        <path id=\"DejaVuSans-6b\" d=\"M 581 4863 \nL 1159 4863 \nL 1159 1991 \nL 2875 3500 \nL 3609 3500 \nL 1753 1863 \nL 3688 0 \nL 2938 0 \nL 1159 1709 \nL 1159 0 \nL 581 0 \nL 581 4863 \nz\n\" transform=\"scale(0.015625)\"/>\n       </defs>\n       <use xlink:href=\"#DejaVuSans-6f\"/>\n       <use xlink:href=\"#DejaVuSans-6c\" x=\"61.181641\"/>\n       <use xlink:href=\"#DejaVuSans-64\" x=\"88.964844\"/>\n       <use xlink:href=\"#DejaVuSans-70\" x=\"152.441406\"/>\n       <use xlink:href=\"#DejaVuSans-65\" x=\"215.917969\"/>\n       <use xlink:href=\"#DejaVuSans-61\" x=\"277.441406\"/>\n       <use xlink:href=\"#DejaVuSans-6b\" x=\"338.720703\"/>\n      </g>\n     </g>\n    </g>\n    <g id=\"ytick_3\">\n     <g id=\"line2d_10\">\n      <g>\n       <use xlink:href=\"#m12215b597d\" x=\"49.09625\" y=\"195.555888\" style=\"stroke: #000000; stroke-width: 0.8\"/>\n      </g>\n     </g>\n     <g id=\"text_10\">\n      <!-- ca -->\n      <g transform=\"translate(30.695 198.595263)scale(0.08 -0.08)\">\n       <defs>\n        <path id=\"DejaVuSans-63\" d=\"M 3122 3366 \nL 3122 2828 \nQ 2878 2963 2633 3030 \nQ 2388 3097 2138 3097 \nQ 1578 3097 1268 2742 \nQ 959 2388 959 1747 \nQ 959 1106 1268 751 \nQ 1578 397 2138 397 \nQ 2388 397 2633 464 \nQ 2878 531 3122 666 \nL 3122 134 \nQ 2881 22 2623 -34 \nQ 2366 -91 2075 -91 \nQ 1284 -91 818 406 \nQ 353 903 353 1747 \nQ 353 2603 823 3093 \nQ 1294 3584 2113 3584 \nQ 2378 3584 2631 3529 \nQ 2884 3475 3122 3366 \nz\n\" transform=\"scale(0.015625)\"/>\n       </defs>\n       <use xlink:href=\"#DejaVuSans-63\"/>\n       <use xlink:href=\"#DejaVuSans-61\" x=\"54.980469\"/>\n      </g>\n     </g>\n    </g>\n    <g id=\"ytick_4\">\n     <g id=\"line2d_11\">\n      <g>\n       <use xlink:href=\"#m12215b597d\" x=\"49.09625\" y=\"173.368133\" style=\"stroke: #000000; stroke-width: 0.8\"/>\n      </g>\n     </g>\n     <g id=\"text_11\">\n      <!-- cp_0 -->\n      <g transform=\"translate(21.42875 176.336883)scale(0.08 -0.08)\">\n       <defs>\n        <path id=\"DejaVuSans-5f\" d=\"M 3263 -1063 \nL 3263 -1509 \nL -63 -1509 \nL -63 -1063 \nL 3263 -1063 \nz\n\" transform=\"scale(0.015625)\"/>\n       </defs>\n       <use xlink:href=\"#DejaVuSans-63\"/>\n       <use xlink:href=\"#DejaVuSans-70\" x=\"54.980469\"/>\n       <use xlink:href=\"#DejaVuSans-5f\" x=\"118.457031\"/>\n       <use xlink:href=\"#DejaVuSans-30\" x=\"168.457031\"/>\n      </g>\n     </g>\n    </g>\n    <g id=\"ytick_5\">\n     <g id=\"line2d_12\">\n      <g>\n       <use xlink:href=\"#m12215b597d\" x=\"49.09625\" y=\"151.180378\" style=\"stroke: #000000; stroke-width: 0.8\"/>\n      </g>\n     </g>\n     <g id=\"text_12\">\n      <!-- trestbps -->\n      <g transform=\"translate(7.2 154.219753)scale(0.08 -0.08)\">\n       <defs>\n        <path id=\"DejaVuSans-74\" d=\"M 1172 4494 \nL 1172 3500 \nL 2356 3500 \nL 2356 3053 \nL 1172 3053 \nL 1172 1153 \nQ 1172 725 1289 603 \nQ 1406 481 1766 481 \nL 2356 481 \nL 2356 0 \nL 1766 0 \nQ 1100 0 847 248 \nQ 594 497 594 1153 \nL 594 3053 \nL 172 3053 \nL 172 3500 \nL 594 3500 \nL 594 4494 \nL 1172 4494 \nz\n\" transform=\"scale(0.015625)\"/>\n        <path id=\"DejaVuSans-72\" d=\"M 2631 2963 \nQ 2534 3019 2420 3045 \nQ 2306 3072 2169 3072 \nQ 1681 3072 1420 2755 \nQ 1159 2438 1159 1844 \nL 1159 0 \nL 581 0 \nL 581 3500 \nL 1159 3500 \nL 1159 2956 \nQ 1341 3275 1631 3429 \nQ 1922 3584 2338 3584 \nQ 2397 3584 2469 3576 \nQ 2541 3569 2628 3553 \nL 2631 2963 \nz\n\" transform=\"scale(0.015625)\"/>\n        <path id=\"DejaVuSans-73\" d=\"M 2834 3397 \nL 2834 2853 \nQ 2591 2978 2328 3040 \nQ 2066 3103 1784 3103 \nQ 1356 3103 1142 2972 \nQ 928 2841 928 2578 \nQ 928 2378 1081 2264 \nQ 1234 2150 1697 2047 \nL 1894 2003 \nQ 2506 1872 2764 1633 \nQ 3022 1394 3022 966 \nQ 3022 478 2636 193 \nQ 2250 -91 1575 -91 \nQ 1294 -91 989 -36 \nQ 684 19 347 128 \nL 347 722 \nQ 666 556 975 473 \nQ 1284 391 1588 391 \nQ 1994 391 2212 530 \nQ 2431 669 2431 922 \nQ 2431 1156 2273 1281 \nQ 2116 1406 1581 1522 \nL 1381 1569 \nQ 847 1681 609 1914 \nQ 372 2147 372 2553 \nQ 372 3047 722 3315 \nQ 1072 3584 1716 3584 \nQ 2034 3584 2315 3537 \nQ 2597 3491 2834 3397 \nz\n\" transform=\"scale(0.015625)\"/>\n        <path id=\"DejaVuSans-62\" d=\"M 3116 1747 \nQ 3116 2381 2855 2742 \nQ 2594 3103 2138 3103 \nQ 1681 3103 1420 2742 \nQ 1159 2381 1159 1747 \nQ 1159 1113 1420 752 \nQ 1681 391 2138 391 \nQ 2594 391 2855 752 \nQ 3116 1113 3116 1747 \nz\nM 1159 2969 \nQ 1341 3281 1617 3432 \nQ 1894 3584 2278 3584 \nQ 2916 3584 3314 3078 \nQ 3713 2572 3713 1747 \nQ 3713 922 3314 415 \nQ 2916 -91 2278 -91 \nQ 1894 -91 1617 61 \nQ 1341 213 1159 525 \nL 1159 0 \nL 581 0 \nL 581 4863 \nL 1159 4863 \nL 1159 2969 \nz\n\" transform=\"scale(0.015625)\"/>\n       </defs>\n       <use xlink:href=\"#DejaVuSans-74\"/>\n       <use xlink:href=\"#DejaVuSans-72\" x=\"39.208984\"/>\n       <use xlink:href=\"#DejaVuSans-65\" x=\"78.072266\"/>\n       <use xlink:href=\"#DejaVuSans-73\" x=\"139.595703\"/>\n       <use xlink:href=\"#DejaVuSans-74\" x=\"191.695312\"/>\n       <use xlink:href=\"#DejaVuSans-62\" x=\"230.904297\"/>\n       <use xlink:href=\"#DejaVuSans-70\" x=\"294.380859\"/>\n       <use xlink:href=\"#DejaVuSans-73\" x=\"357.857422\"/>\n      </g>\n     </g>\n    </g>\n    <g id=\"ytick_6\">\n     <g id=\"line2d_13\">\n      <g>\n       <use xlink:href=\"#m12215b597d\" x=\"49.09625\" y=\"128.992622\" style=\"stroke: #000000; stroke-width: 0.8\"/>\n      </g>\n     </g>\n     <g id=\"text_13\">\n      <!-- chol -->\n      <g transform=\"translate(23.41 132.031997)scale(0.08 -0.08)\">\n       <defs>\n        <path id=\"DejaVuSans-68\" d=\"M 3513 2113 \nL 3513 0 \nL 2938 0 \nL 2938 2094 \nQ 2938 2591 2744 2837 \nQ 2550 3084 2163 3084 \nQ 1697 3084 1428 2787 \nQ 1159 2491 1159 1978 \nL 1159 0 \nL 581 0 \nL 581 4863 \nL 1159 4863 \nL 1159 2956 \nQ 1366 3272 1645 3428 \nQ 1925 3584 2291 3584 \nQ 2894 3584 3203 3211 \nQ 3513 2838 3513 2113 \nz\n\" transform=\"scale(0.015625)\"/>\n       </defs>\n       <use xlink:href=\"#DejaVuSans-63\"/>\n       <use xlink:href=\"#DejaVuSans-68\" x=\"54.980469\"/>\n       <use xlink:href=\"#DejaVuSans-6f\" x=\"118.359375\"/>\n       <use xlink:href=\"#DejaVuSans-6c\" x=\"179.541016\"/>\n      </g>\n     </g>\n    </g>\n    <g id=\"ytick_7\">\n     <g id=\"line2d_14\">\n      <g>\n       <use xlink:href=\"#m12215b597d\" x=\"49.09625\" y=\"106.804867\" style=\"stroke: #000000; stroke-width: 0.8\"/>\n      </g>\n     </g>\n     <g id=\"text_14\">\n      <!-- thalach -->\n      <g transform=\"translate(10.29375 109.844242)scale(0.08 -0.08)\">\n       <use xlink:href=\"#DejaVuSans-74\"/>\n       <use xlink:href=\"#DejaVuSans-68\" x=\"39.208984\"/>\n       <use xlink:href=\"#DejaVuSans-61\" x=\"102.587891\"/>\n       <use xlink:href=\"#DejaVuSans-6c\" x=\"163.867188\"/>\n       <use xlink:href=\"#DejaVuSans-61\" x=\"191.650391\"/>\n       <use xlink:href=\"#DejaVuSans-63\" x=\"252.929688\"/>\n       <use xlink:href=\"#DejaVuSans-68\" x=\"307.910156\"/>\n      </g>\n     </g>\n    </g>\n    <g id=\"ytick_8\">\n     <g id=\"line2d_15\">\n      <g>\n       <use xlink:href=\"#m12215b597d\" x=\"49.09625\" y=\"84.617112\" style=\"stroke: #000000; stroke-width: 0.8\"/>\n      </g>\n     </g>\n     <g id=\"text_15\">\n      <!-- fbs -->\n      <g transform=\"translate(27.93375 87.656487)scale(0.08 -0.08)\">\n       <defs>\n        <path id=\"DejaVuSans-66\" d=\"M 2375 4863 \nL 2375 4384 \nL 1825 4384 \nQ 1516 4384 1395 4259 \nQ 1275 4134 1275 3809 \nL 1275 3500 \nL 2222 3500 \nL 2222 3053 \nL 1275 3053 \nL 1275 0 \nL 697 0 \nL 697 3053 \nL 147 3053 \nL 147 3500 \nL 697 3500 \nL 697 3744 \nQ 697 4328 969 4595 \nQ 1241 4863 1831 4863 \nL 2375 4863 \nz\n\" transform=\"scale(0.015625)\"/>\n       </defs>\n       <use xlink:href=\"#DejaVuSans-66\"/>\n       <use xlink:href=\"#DejaVuSans-62\" x=\"35.205078\"/>\n       <use xlink:href=\"#DejaVuSans-73\" x=\"98.681641\"/>\n      </g>\n     </g>\n    </g>\n    <g id=\"ytick_9\">\n     <g id=\"line2d_16\">\n      <g>\n       <use xlink:href=\"#m12215b597d\" x=\"49.09625\" y=\"62.429357\" style=\"stroke: #000000; stroke-width: 0.8\"/>\n      </g>\n     </g>\n     <g id=\"text_16\">\n      <!-- sex -->\n      <g transform=\"translate(26.31125 65.468732)scale(0.08 -0.08)\">\n       <use xlink:href=\"#DejaVuSans-73\"/>\n       <use xlink:href=\"#DejaVuSans-65\" x=\"52.099609\"/>\n       <use xlink:href=\"#DejaVuSans-78\" x=\"111.873047\"/>\n      </g>\n     </g>\n    </g>\n    <g id=\"ytick_10\">\n     <g id=\"line2d_17\">\n      <g>\n       <use xlink:href=\"#m12215b597d\" x=\"49.09625\" y=\"40.241602\" style=\"stroke: #000000; stroke-width: 0.8\"/>\n      </g>\n     </g>\n     <g id=\"text_17\">\n      <!-- age -->\n      <g transform=\"translate(25.0925 43.280977)scale(0.08 -0.08)\">\n       <use xlink:href=\"#DejaVuSans-61\"/>\n       <use xlink:href=\"#DejaVuSans-67\" x=\"61.279297\"/>\n       <use xlink:href=\"#DejaVuSans-65\" x=\"124.755859\"/>\n      </g>\n     </g>\n    </g>\n   </g>\n   <g id=\"patch_13\">\n    <path d=\"M 49.09625 259.6785 \nL 49.09625 20.4945 \n\" style=\"fill: none; stroke: #000000; stroke-width: 0.8; stroke-linejoin: miter; stroke-linecap: square\"/>\n   </g>\n   <g id=\"patch_14\">\n    <path d=\"M 406.21625 259.6785 \nL 406.21625 20.4945 \n\" style=\"fill: none; stroke: #000000; stroke-width: 0.8; stroke-linejoin: miter; stroke-linecap: square\"/>\n   </g>\n   <g id=\"patch_15\">\n    <path d=\"M 49.09625 259.6785 \nL 406.21625 259.6785 \n\" style=\"fill: none; stroke: #000000; stroke-width: 0.8; stroke-linejoin: miter; stroke-linecap: square\"/>\n   </g>\n   <g id=\"patch_16\">\n    <path d=\"M 49.09625 20.4945 \nL 406.21625 20.4945 \n\" style=\"fill: none; stroke: #000000; stroke-width: 0.8; stroke-linejoin: miter; stroke-linecap: square\"/>\n   </g>\n   <g id=\"text_18\">\n    <!-- Feature Importance of clf_depth10 -->\n    <g transform=\"translate(144.6695 14.4945)scale(0.096 -0.096)\">\n     <defs>\n      <path id=\"DejaVuSans-46\" d=\"M 628 4666 \nL 3309 4666 \nL 3309 4134 \nL 1259 4134 \nL 1259 2759 \nL 3109 2759 \nL 3109 2228 \nL 1259 2228 \nL 1259 0 \nL 628 0 \nL 628 4666 \nz\n\" transform=\"scale(0.015625)\"/>\n      <path id=\"DejaVuSans-75\" d=\"M 544 1381 \nL 544 3500 \nL 1119 3500 \nL 1119 1403 \nQ 1119 906 1312 657 \nQ 1506 409 1894 409 \nQ 2359 409 2629 706 \nQ 2900 1003 2900 1516 \nL 2900 3500 \nL 3475 3500 \nL 3475 0 \nL 2900 0 \nL 2900 538 \nQ 2691 219 2414 64 \nQ 2138 -91 1772 -91 \nQ 1169 -91 856 284 \nQ 544 659 544 1381 \nz\nM 1991 3584 \nL 1991 3584 \nz\n\" transform=\"scale(0.015625)\"/>\n      <path id=\"DejaVuSans-20\" transform=\"scale(0.015625)\"/>\n      <path id=\"DejaVuSans-49\" d=\"M 628 4666 \nL 1259 4666 \nL 1259 0 \nL 628 0 \nL 628 4666 \nz\n\" transform=\"scale(0.015625)\"/>\n      <path id=\"DejaVuSans-6d\" d=\"M 3328 2828 \nQ 3544 3216 3844 3400 \nQ 4144 3584 4550 3584 \nQ 5097 3584 5394 3201 \nQ 5691 2819 5691 2113 \nL 5691 0 \nL 5113 0 \nL 5113 2094 \nQ 5113 2597 4934 2840 \nQ 4756 3084 4391 3084 \nQ 3944 3084 3684 2787 \nQ 3425 2491 3425 1978 \nL 3425 0 \nL 2847 0 \nL 2847 2094 \nQ 2847 2600 2669 2842 \nQ 2491 3084 2119 3084 \nQ 1678 3084 1418 2786 \nQ 1159 2488 1159 1978 \nL 1159 0 \nL 581 0 \nL 581 3500 \nL 1159 3500 \nL 1159 2956 \nQ 1356 3278 1631 3431 \nQ 1906 3584 2284 3584 \nQ 2666 3584 2933 3390 \nQ 3200 3197 3328 2828 \nz\n\" transform=\"scale(0.015625)\"/>\n     </defs>\n     <use xlink:href=\"#DejaVuSans-46\"/>\n     <use xlink:href=\"#DejaVuSans-65\" x=\"52.019531\"/>\n     <use xlink:href=\"#DejaVuSans-61\" x=\"113.542969\"/>\n     <use xlink:href=\"#DejaVuSans-74\" x=\"174.822266\"/>\n     <use xlink:href=\"#DejaVuSans-75\" x=\"214.03125\"/>\n     <use xlink:href=\"#DejaVuSans-72\" x=\"277.410156\"/>\n     <use xlink:href=\"#DejaVuSans-65\" x=\"316.273438\"/>\n     <use xlink:href=\"#DejaVuSans-20\" x=\"377.796875\"/>\n     <use xlink:href=\"#DejaVuSans-49\" x=\"409.583984\"/>\n     <use xlink:href=\"#DejaVuSans-6d\" x=\"439.076172\"/>\n     <use xlink:href=\"#DejaVuSans-70\" x=\"536.488281\"/>\n     <use xlink:href=\"#DejaVuSans-6f\" x=\"599.964844\"/>\n     <use xlink:href=\"#DejaVuSans-72\" x=\"661.146484\"/>\n     <use xlink:href=\"#DejaVuSans-74\" x=\"702.259766\"/>\n     <use xlink:href=\"#DejaVuSans-61\" x=\"741.46875\"/>\n     <use xlink:href=\"#DejaVuSans-6e\" x=\"802.748047\"/>\n     <use xlink:href=\"#DejaVuSans-63\" x=\"866.126953\"/>\n     <use xlink:href=\"#DejaVuSans-65\" x=\"921.107422\"/>\n     <use xlink:href=\"#DejaVuSans-20\" x=\"982.630859\"/>\n     <use xlink:href=\"#DejaVuSans-6f\" x=\"1014.417969\"/>\n     <use xlink:href=\"#DejaVuSans-66\" x=\"1075.599609\"/>\n     <use xlink:href=\"#DejaVuSans-20\" x=\"1110.804688\"/>\n     <use xlink:href=\"#DejaVuSans-63\" x=\"1142.591797\"/>\n     <use xlink:href=\"#DejaVuSans-6c\" x=\"1197.572266\"/>\n     <use xlink:href=\"#DejaVuSans-66\" x=\"1225.355469\"/>\n     <use xlink:href=\"#DejaVuSans-5f\" x=\"1260.560547\"/>\n     <use xlink:href=\"#DejaVuSans-64\" x=\"1310.560547\"/>\n     <use xlink:href=\"#DejaVuSans-65\" x=\"1374.037109\"/>\n     <use xlink:href=\"#DejaVuSans-70\" x=\"1435.560547\"/>\n     <use xlink:href=\"#DejaVuSans-74\" x=\"1499.037109\"/>\n     <use xlink:href=\"#DejaVuSans-68\" x=\"1538.246094\"/>\n     <use xlink:href=\"#DejaVuSans-31\" x=\"1601.625\"/>\n     <use xlink:href=\"#DejaVuSans-30\" x=\"1665.248047\"/>\n    </g>\n   </g>\n  </g>\n </g>\n <defs>\n  <clipPath id=\"p29e054e8d8\">\n   <rect x=\"49.09625\" y=\"20.4945\" width=\"357.12\" height=\"239.184\"/>\n  </clipPath>\n </defs>\n</svg>\n",
      "text/plain": [
       "<Figure size 460.8x316.8 with 1 Axes>"
      ]
     },
     "metadata": {
      "needs_background": "light"
     },
     "output_type": "display_data"
    }
   ],
   "source": [
    "import matplotlib.pyplot as plt\n",
    "\n",
    "# trace decision tree using bfs\n",
    "# index of \"counts\" represents different feature index\n",
    "queue = [clf_depth10.root]\n",
    "counts = np.zeros(x_train.shape[1])\n",
    "while len(queue) > 0:\n",
    "    front = queue.pop(0)\n",
    "\n",
    "    if front.feature_idx is not None:\n",
    "        counts[front.feature_idx] += 1\n",
    "\n",
    "    if front.left is not None:\n",
    "        queue.append(front.left)\n",
    "        queue.append(front.right)\n",
    "\n",
    "# remove features with 0 counts\n",
    "idx = counts > 0\n",
    "counts = counts[idx]\n",
    "ticks = df.columns[:-1][idx]\n",
    "\n",
    "# sort counts\n",
    "idx = np.argsort(counts)\n",
    "counts = counts[idx]\n",
    "ticks = df.columns[idx]\n",
    "\n",
    "# plot\n",
    "plt.style.use('seaborn-paper')\n",
    "plt.figure()\n",
    "plt.title(\"Feature Importance of clf_depth10\")\n",
    "plt.barh(range(len(counts)), counts)\n",
    "plt.yticks(range(len(counts)), ticks)\n",
    "plt.grid(False, axis='y')\n",
    "plt.show()\n"
   ]
  },
  {
   "cell_type": "markdown",
   "metadata": {},
   "source": [
    "## Question 4\n",
    "implement the AdaBooest algorithm by using the CART you just implemented from question 2 as base learner. You should implement one arguments for the AdaBooest.\n",
    "1. **n_estimators**: The maximum number of estimators at which boosting is terminated"
   ]
  },
  {
   "cell_type": "code",
   "execution_count": 136,
   "metadata": {},
   "outputs": [],
   "source": [
    "class AdaBoost():\n",
    "    def __init__(self, n_estimators, **kargs):\n",
    "        self.n_estimators = n_estimators\n",
    "\n",
    "        # be setted after training\n",
    "        self.kargs = kargs\n",
    "        self.clfs = None  # stores every weak classifier\n",
    "        self.alphas = None  # stores every alpha value\n",
    "        self.weights = None  # stores current sample_weight\n",
    "        self.errors = None # stores error, for debugging\n",
    "\n",
    "    def fit(self, X, y):\n",
    "        self.alphas = []\n",
    "        self.clfs = []\n",
    "        self.errors = []\n",
    "        self.weights = np.ones(len(y)) / len(y)  # initialize uniform weights\n",
    "\n",
    "        for i in range(self.n_estimators):\n",
    "            # train weak classifier with sample weight\n",
    "            weak_clf = DecisionTree(**self.kargs)\n",
    "            weak_clf.fit(X, y, sample_weight=self.weights)\n",
    "\n",
    "            # compute error and alpha\n",
    "            y_pred = weak_clf.predict(X)\n",
    "            alpha = self.compute_alpha(y_pred, y)\n",
    "\n",
    "            # record\n",
    "            self.alphas.append(alpha)\n",
    "            self.clfs.append(weak_clf)\n",
    "\n",
    "            # update weight\n",
    "            if i != self.n_estimators - 1:\n",
    "                self.update_weights(y_pred, y, alpha)\n",
    "\n",
    "    def predict(self, X):\n",
    "        y_pred = np.zeros(len(X))\n",
    "        for alpha, clf in zip(self.alphas, self.clfs):\n",
    "            y_pred_weak = clf.predict(X)\n",
    "            # quantize y_pred_weak to {0, 1}\n",
    "            y_pred_weak = np.where(y_pred_weak == 1, 1, -1)\n",
    "            y_pred += alpha * y_pred_weak\n",
    "\n",
    "        # quantize y_pred to {0, 1}\n",
    "        y_pred = np.where(y_pred > 0, 1, 0)\n",
    "        return y_pred\n",
    "\n",
    "    def compute_alpha(self, y_pred, y):\n",
    "        # computes the weighted error\n",
    "        error = np.sum(self.weights[y_pred != y])\n",
    "        error = max(error, 1E-20)  # avoid divide by zero error\n",
    "        self.errors.append(error)\n",
    "        # computes new alpha based on error\n",
    "        return 0.5 * np.log((1.0 - error) / error) # np.log is ln\n",
    "\n",
    "    def update_weights(self, y_pred, y, alpha):\n",
    "        # update sample weights\n",
    "        y_dot_hx = np.where(y == y_pred, 1, -1) # 1 if y = h(x), -1 if y != h(x)\n",
    "        new_weights = self.weights * np.exp(-alpha * y_dot_hx)\n",
    "        new_weights /= new_weights.sum()  # normalization\n",
    "        self.weights = new_weights\n"
   ]
  },
  {
   "cell_type": "markdown",
   "metadata": {},
   "source": [
    "### Question 4.1\n",
    "Show the accuracy score of test data by `n_estimators=10` and `n_estimators=100`, respectively.\n"
   ]
  },
  {
   "cell_type": "code",
   "execution_count": 172,
   "metadata": {},
   "outputs": [
    {
     "name": "stdout",
     "output_type": "stream",
     "text": [
      "Q4.1\n",
      "n_estimators=10, max_depth=3: 0.79\n",
      "n_estimators=100, max_depth=3: 0.78\n"
     ]
    }
   ],
   "source": [
    "print(\"Q4.1\")\n",
    "ada_clf_10 = AdaBoost(n_estimators=10, max_depth=3)\n",
    "ada_clf_10.fit(x_train, y_train)\n",
    "y_pred = ada_clf_10.predict(x_test)\n",
    "print(f\"n_estimators=10, max_depth=3: {accuracy_score(y_pred, y_test)}\")\n",
    "\n",
    "ada_clf_100 = AdaBoost(n_estimators=100, max_depth=3)\n",
    "ada_clf_100.fit(x_train, y_train)\n",
    "y_pred = ada_clf_100.predict(x_test)\n",
    "print(f\"n_estimators=100, max_depth=3: {accuracy_score(y_pred, y_test)}\")"
   ]
  },
  {
   "cell_type": "markdown",
   "metadata": {},
   "source": [
    "## Question 5\n",
    "implement the Random Forest algorithm by using the CART you just implemented from question 2. You should implement three arguments for the Random Forest.\n",
    "\n",
    "1. **n_estimators**: The number of trees in the forest. \n",
    "2. **max_features**: The number of random select features to consider when looking for the best split\n",
    "3. **bootstrap**: Whether bootstrap samples are used when building tree\n"
   ]
  },
  {
   "cell_type": "code",
   "execution_count": 138,
   "metadata": {},
   "outputs": [],
   "source": [
    "class RandomForest():\n",
    "    def __init__(self, n_estimators, max_features, boostrap=True, **kargs):\n",
    "        self.n_estimators = n_estimators\n",
    "        self.boostrap = boostrap\n",
    "        self.kargs = kargs  # stores (criterion, max_depth)\n",
    "        self.kargs['max_features'] = int(\n",
    "            max_features) if max_features is not None else None\n",
    "\n",
    "        # be setted after training\n",
    "        self.clfs = []  # stores every tree\n",
    "\n",
    "    def fit(self, X, y):\n",
    "        raw_X, raw_y = X, y\n",
    "        for _ in range(self.n_estimators):\n",
    "            if self.boostrap:\n",
    "                # peform bootstrap if sepcified\n",
    "                X, y = self.get_bootstrap(raw_X, raw_y)\n",
    "            clf = DecisionTree(**self.kargs)  # passes kargs\n",
    "            clf.fit(X, y)\n",
    "            self.clfs.append(clf)\n",
    "\n",
    "    def get_bootstrap(self, x, y):\n",
    "        # implement bootstrap with np.random.choice, default value for replace is True\n",
    "        idx = np.random.choice(np.arange(len(y)), size=len(y))\n",
    "        return x[idx], y[idx]\n",
    "\n",
    "    def predict(self, X):\n",
    "        # calculate mean of every clf\n",
    "        y_pred = np.mean([clf.predict(X) for clf in self.clfs], axis=0)\n",
    "\n",
    "        # quantize y_pred to {0, 1}\n",
    "        y_pred = np.where(y_pred >= 0.5, 1, 0)\n",
    "\n",
    "        return y_pred\n"
   ]
  },
  {
   "cell_type": "markdown",
   "metadata": {},
   "source": [
    "### Question 5.1\n",
    "Using `criterion=gini`, `max_depth=None`, `max_features=sqrt(n_features)`, showing the accuracy score of test data by `n_estimators=10` and `n_estimators=100`, respectively.\n"
   ]
  },
  {
   "cell_type": "code",
   "execution_count": 179,
   "metadata": {},
   "outputs": [
    {
     "name": "stdout",
     "output_type": "stream",
     "text": [
      "Q5.1\n",
      "n_estimators=10: 0.72\n",
      "n_estimators=100: 0.77\n"
     ]
    }
   ],
   "source": [
    "print(\"Q5.1\")\n",
    "clf_10tree = RandomForest(\n",
    "    n_estimators=10, max_features=np.sqrt(x_train.shape[1]))\n",
    "clf_10tree.fit(x_train, y_train)\n",
    "y_pred = clf_10tree.predict(x_test)\n",
    "print(f\"n_estimators=10: {accuracy_score(y_pred, y_test)}\")\n",
    "\n",
    "clf_100tree = RandomForest(\n",
    "    n_estimators=100, max_features=np.sqrt(x_train.shape[1]))\n",
    "clf_100tree.fit(x_train, y_train)\n",
    "y_pred = clf_100tree.predict(x_test)\n",
    "print(f\"n_estimators=100: {accuracy_score(y_pred, y_test)}\")\n"
   ]
  },
  {
   "cell_type": "markdown",
   "metadata": {},
   "source": [
    "### Question 5.2\n",
    "Using `criterion=gini`, `max_depth=None`, `n_estimators=10`, showing the accuracy score of test data by `max_features=sqrt(n_features)` and `max_features=n_features`, respectively.\n"
   ]
  },
  {
   "cell_type": "code",
   "execution_count": 174,
   "metadata": {},
   "outputs": [
    {
     "name": "stdout",
     "output_type": "stream",
     "text": [
      "Q5.2\n",
      "max_features=sqrt(n_features): 0.77\n",
      "max_features=n_features: 0.74\n"
     ]
    }
   ],
   "source": [
    "print(\"Q5.2\")\n",
    "clf_random_features = RandomForest(\n",
    "    n_estimators=10, max_features=np.sqrt(x_train.shape[1]))\n",
    "clf_random_features.fit(x_train, y_train)\n",
    "y_pred = clf_random_features.predict(x_test)\n",
    "print(f\"max_features=sqrt(n_features): {accuracy_score(y_pred, y_test)}\")\n",
    "\n",
    "clf_all_features = RandomForest(n_estimators=10, max_features=x_train.shape[1])\n",
    "clf_all_features.fit(x_train, y_train)\n",
    "y_pred = clf_all_features.predict(x_test)\n",
    "print(f\"max_features=n_features: {accuracy_score(y_pred, y_test)}\")\n"
   ]
  },
  {
   "cell_type": "markdown",
   "metadata": {},
   "source": [
    "- Note: Use majority votes to get the final prediction, you may get slightly different results when re-building the random forest model"
   ]
  },
  {
   "cell_type": "markdown",
   "metadata": {},
   "source": [
    "### Question 6.\n",
    "Try you best to get highest test accuracy score by \n",
    "- Feature engineering\n",
    "- Hyperparameter tuning\n",
    "- Implement any other ensemble methods, such as gradient boosting. Please note that you cannot call any package. Also, only ensemble method can be used. Neural network method is not allowed to used."
   ]
  },
  {
   "cell_type": "code",
   "execution_count": 141,
   "metadata": {},
   "outputs": [],
   "source": [
    "file_url = \"http://storage.googleapis.com/download.tensorflow.org/data/heart.csv\"\n",
    "df = pd.read_csv(file_url)\n",
    "\n",
    "# remove catagorical features (since its not important, IMO)\n",
    "categorical_features = ['cp', 'restecg', 'slope', 'thal']\n",
    "for f in categorical_features:\n",
    "    df.pop(f)\n",
    "\n",
    "target = df.pop(\"target\")\n",
    "df.insert(len(df.columns), \"target\", target)\n",
    "\n",
    "train_idx = np.load('train_idx.npy')\n",
    "test_idx = np.load('test_idx.npy')\n",
    "\n",
    "train_df = df.iloc[train_idx]\n",
    "test_df = df.iloc[test_idx]\n",
    "\n",
    "# get numpy array\n",
    "x_train, y_train = train_df.values[:, :-1], train_df.values[:, -1].astype(int)\n",
    "x_test, y_test = test_df.values[:, :-1], test_df.values[:, -1].astype(int)\n"
   ]
  },
  {
   "cell_type": "code",
   "execution_count": 209,
   "metadata": {},
   "outputs": [
    {
     "name": "stdout",
     "output_type": "stream",
     "text": [
      "Test-set accuarcy score: 0.87\n"
     ]
    }
   ],
   "source": [
    "your_model = RandomForest(\n",
    "    n_estimators=100,\n",
    "    max_features=np.sqrt(x_train.shape[1]),\n",
    "    max_depth=1\n",
    ")\n",
    "your_model.fit(x_train, y_train)\n",
    "y_pred = your_model.predict(x_test)\n",
    "\n",
    "print(f'Test-set accuarcy score: {accuracy_score(y_test, y_pred)}')\n"
   ]
  },
  {
   "cell_type": "markdown",
   "metadata": {},
   "source": [
    "## Supplementary\n",
    "If you have trouble to implement this homework, TA strongly recommend watching [this video](https://www.youtube.com/watch?v=LDRbO9a6XPU), which explains Decision Tree model clearly. But don't copy code from any resources, try to finish this homework by yourself! "
   ]
  }
 ],
 "metadata": {
  "kernelspec": {
   "display_name": "Python 3",
   "language": "python",
   "name": "python3"
  },
  "language_info": {
   "codemirror_mode": {
    "name": "ipython",
    "version": 3
   },
   "file_extension": ".py",
   "mimetype": "text/x-python",
   "name": "python",
   "nbconvert_exporter": "python",
   "pygments_lexer": "ipython3",
   "version": "3.8.10"
  },
  "vscode": {
   "interpreter": {
    "hash": "e7370f93d1d0cde622a1f8e1c04877d8463912d04d973331ad4851f04de6915a"
   }
  }
 },
 "nbformat": 4,
 "nbformat_minor": 4
}
